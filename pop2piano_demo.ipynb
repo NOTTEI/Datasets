{
  "cells": [
    {
      "cell_type": "markdown",
      "metadata": {
        "id": "view-in-github",
        "colab_type": "text"
      },
      "source": [
        "<a href=\"https://colab.research.google.com/github/NOTTEI/Datasets/blob/master/pop2piano_demo.ipynb\" target=\"_parent\"><img src=\"https://colab.research.google.com/assets/colab-badge.svg\" alt=\"Open In Colab\"/></a>"
      ]
    },
    {
      "cell_type": "code",
      "execution_count": null,
      "metadata": {
        "id": "qmkz61oDYVd0"
      },
      "outputs": [],
      "source": [
        "  # Copyright [2022] [pop2piano]\n",
        "  #      Licensed under the Apache License, Version 2.0 (the \"License\");\n",
        "  #      you may not use this file except in compliance with the License.\n",
        "  #      You may obtain a copy of the License at\n",
        "  #         http://www.apache.org/licenses/LICENSE-2.0\n",
        "  #      Unless required by applicable law or agreed to in writing, software\n",
        "  #      distributed under the License is distributed on an \"AS IS\" BASIS,\n",
        "  #      WITHOUT WARRANTIES OR CONDITIONS OF ANY KIND, either express or implied.\n",
        "  #      See the License for the specific language governing permissions and\n",
        "  #      limitations under the License.\n",
        "\n",
        "#@title Setup Environment\n",
        "#@markdown - Install Pop2Piano and its dependencies (may take a few minutes).\n",
        "#@markdown - We highly recommend to use a GPU runtime.\n",
        "#@markdown - click: Runtime >> Change Runtime Type >> GPU\n",
        "\n",
        "!apt-get install -y fluidsynth\n",
        "!git clone https://github.com/sweetcocoa/pop2piano/\n",
        "!cd pop2piano\n",
        "!pip install pretty-midi==0.2.9 omegaconf==2.1.1 youtube-dl==2021.12.17 transformers==4.16.1 pytorch-lightning essentia==2.1b6.dev609 note-seq==0.0.3 pyFluidSynth==1.3.0\n",
        "!wget https://github.com/sweetcocoa/pop2piano/releases/download/dpi_2k_epoch/model-1999-val_0.67311615.ckpt"
      ]
    },
    {
      "cell_type": "code",
      "execution_count": null,
      "metadata": {
        "id": "uep2XHwSYonZ"
      },
      "outputs": [],
      "source": [
        "#@title Import codes\n",
        "\n",
        "import os \n",
        "import sys\n",
        "sys.path.append(\"pop2piano\")\n",
        "import glob\n",
        "import random\n",
        "\n",
        "import torch\n",
        "import torchaudio\n",
        "import librosa\n",
        "import numpy as np\n",
        "import pandas as pd\n",
        "import IPython.display as ipd\n",
        "import soundfile as sf\n",
        "from google.colab import files\n",
        "\n",
        "from tqdm.auto import tqdm\n",
        "from omegaconf import OmegaConf\n",
        "import note_seq\n",
        "\n",
        "from utils.dsp import get_stereo\n",
        "from utils.demo import download_youtube\n",
        "from transformer_wrapper import TransformerWrapper\n",
        "from midi_tokenizer import MidiTokenizer, extrapolate_beat_times\n",
        "from preprocess.beat_quantizer import extract_rhythm, interpolate_beat_times"
      ]
    },
    {
      "cell_type": "code",
      "execution_count": null,
      "metadata": {
        "id": "31GCah7G6LgQ"
      },
      "outputs": [],
      "source": [
        "device = \"cuda\" if torch.cuda.is_available() else \"cpu\"\n",
        "config = OmegaConf.load(\"pop2piano/config.yaml\")\n",
        "wrapper = TransformerWrapper(config)\n",
        "wrapper = wrapper.load_from_checkpoint(\"model-1999-val_0.67311615.ckpt\", config=config).to(device)\n",
        "model = \"dpipqxiy\"\n",
        "wrapper.eval()\n",
        "\"\""
      ]
    },
    {
      "cell_type": "code",
      "execution_count": null,
      "metadata": {
        "cellView": "form",
        "id": "PaxFoU8AGdY-"
      },
      "outputs": [],
      "source": [
        "#@title Select Arranger(Composer)\n",
        "\n",
        "composer = \"composer1\" #@param['composer1', 'composer2', 'composer3', 'composer4', 'composer5', 'composer6', 'composer7', 'composer8', 'composer9', 'composer10', 'composer11', 'composer12', 'composer13', 'composer14', 'composer15', 'composer16', 'composer17', 'composer18', 'composer19', 'composer20', 'composer21']"
      ]
    },
    {
      "cell_type": "code",
      "execution_count": null,
      "metadata": {
        "cellView": "form",
        "id": "Fu_9J3T5HYtn"
      },
      "outputs": [],
      "source": [
        "#@title Upload audio file (Supports : An audio file like wav, mp3)\n",
        "file = files.upload()\n",
        "audio_file = list(file.keys())[0]"
      ]
    },
    {
      "cell_type": "code",
      "execution_count": null,
      "metadata": {
        "id": "2YdzBvH7_Mi-"
      },
      "outputs": [],
      "source": [
        "#@title Result\n",
        "\n",
        "pm, composer, mix_path, midi_path = wrapper.generate(\n",
        "    audio_path=audio_file, \n",
        "    composer=composer, \n",
        "    model=model,\n",
        "    show_plot=True, \n",
        "    save_midi=True, \n",
        "    save_mix=True, \n",
        ")\n",
        "note_seq.plot_sequence(note_seq.midi_to_note_sequence(pm))"
      ]
    },
    {
      "cell_type": "code",
      "execution_count": null,
      "metadata": {
        "id": "QPFXcxnZNfb9"
      },
      "outputs": [],
      "source": [
        "#@title Download generated Piano cover MIDI\n",
        "files.download(midi_path)"
      ]
    }
  ],
  "metadata": {
    "colab": {
      "collapsed_sections": [],
      "provenance": [],
      "include_colab_link": true
    },
    "kernelspec": {
      "display_name": "Python 3",
      "name": "python3"
    },
    "language_info": {
      "name": "python"
    }
  },
  "nbformat": 4,
  "nbformat_minor": 0
}